{
 "cells": [
  {
   "cell_type": "code",
   "execution_count": 1,
   "metadata": {},
   "outputs": [],
   "source": [
    "import torch\n",
    "import math\n",
    "import matplotlib.pyplot as plt\n",
    "import numpy as np\n"
   ]
  },
  {
   "cell_type": "code",
   "execution_count": 2,
   "metadata": {},
   "outputs": [],
   "source": [
    "# 迭代次数\n",
    "EPOCH = 1500\n",
    "# 学习率\n",
    "MLP_LR = 0.01\n",
    "left, right = -2,2\n",
    "PI = math.pi\n",
    "NUM=50.0"
   ]
  },
  {
   "cell_type": "code",
   "execution_count": 3,
   "metadata": {},
   "outputs": [
    {
     "data": {
      "text/plain": [
       "float"
      ]
     },
     "execution_count": 3,
     "metadata": {},
     "output_type": "execute_result"
    }
   ],
   "source": [
    "type(NUM)"
   ]
  },
  {
   "cell_type": "code",
   "execution_count": 4,
   "metadata": {},
   "outputs": [
    {
     "name": "stdout",
     "output_type": "stream",
     "text": [
      "tensor([-6.2832e+00, -6.0319e+00, -5.7805e+00, -5.5292e+00, -5.2779e+00,\n",
      "        -5.0265e+00, -4.7752e+00, -4.5239e+00, -4.2726e+00, -4.0212e+00,\n",
      "        -3.7699e+00, -3.5186e+00, -3.2673e+00, -3.0159e+00, -2.7646e+00,\n",
      "        -2.5133e+00, -2.2619e+00, -2.0106e+00, -1.7593e+00, -1.5080e+00,\n",
      "        -1.2566e+00, -1.0053e+00, -7.5398e-01, -5.0265e-01, -2.5133e-01,\n",
      "         5.5806e-15,  2.5133e-01,  5.0265e-01,  7.5398e-01,  1.0053e+00,\n",
      "         1.2566e+00,  1.5080e+00,  1.7593e+00,  2.0106e+00,  2.2619e+00,\n",
      "         2.5133e+00,  2.7646e+00,  3.0159e+00,  3.2673e+00,  3.5186e+00,\n",
      "         3.7699e+00,  4.0212e+00,  4.2726e+00,  4.5239e+00,  4.7752e+00,\n",
      "         5.0265e+00,  5.2779e+00,  5.5292e+00,  5.7805e+00,  6.0319e+00])\n",
      "tensor([-1.7485e-07,  2.4869e-01,  4.8175e-01,  6.8455e-01,  8.4433e-01,\n",
      "         9.5106e-01,  9.9803e-01,  9.8229e-01,  9.0483e-01,  7.7051e-01,\n",
      "         5.8779e-01,  3.6812e-01,  1.2533e-01, -1.2533e-01, -3.6812e-01,\n",
      "        -5.8779e-01, -7.7051e-01, -9.0483e-01, -9.8229e-01, -9.9803e-01,\n",
      "        -9.5106e-01, -8.4433e-01, -6.8455e-01, -4.8175e-01, -2.4869e-01,\n",
      "         5.5806e-15,  2.4869e-01,  4.8175e-01,  6.8455e-01,  8.4433e-01,\n",
      "         9.5106e-01,  9.9803e-01,  9.8229e-01,  9.0483e-01,  7.7051e-01,\n",
      "         5.8779e-01,  3.6812e-01,  1.2533e-01, -1.2533e-01, -3.6812e-01,\n",
      "        -5.8779e-01, -7.7051e-01, -9.0483e-01, -9.8229e-01, -9.9803e-01,\n",
      "        -9.5106e-01, -8.4433e-01, -6.8455e-01, -4.8175e-01, -2.4869e-01])\n"
     ]
    }
   ],
   "source": [
    "x = torch.tensor([(num * PI) for num in np.arange(left, right, (right - left) / NUM)], dtype=torch.float)\n",
    "print(x)\n",
    "y = torch.sin(x)\n",
    "print(y)"
   ]
  },
  {
   "cell_type": "code",
   "execution_count": null,
   "metadata": {},
   "outputs": [
    {
     "ename": "",
     "evalue": "",
     "output_type": "error",
     "traceback": [
      "\u001b[1;31mCannot execute code, session has been disposed. Please try restarting the Kernel."
     ]
    },
    {
     "ename": "",
     "evalue": "",
     "output_type": "error",
     "traceback": [
      "\u001b[1;31mThe Kernel crashed while executing code in the the current cell or a previous cell. Please review the code in the cell(s) to identify a possible cause of the failure. Click <a href='https://aka.ms/vscodeJupyterKernelCrash'>here</a> for more info. View Jupyter <a href='command:jupyter.viewOutput'>log</a> for further details."
     ]
    }
   ],
   "source": [
    "plt.plot(x,y,color='red')\n",
    "plt.show()"
   ]
  },
  {
   "cell_type": "code",
   "execution_count": 5,
   "metadata": {},
   "outputs": [
    {
     "ename": "NameError",
     "evalue": "name 'numpy' is not defined",
     "output_type": "error",
     "traceback": [
      "\u001b[1;31m---------------------------------------------------------------------------\u001b[0m",
      "\u001b[1;31mNameError\u001b[0m                                 Traceback (most recent call last)",
      "Cell \u001b[1;32mIn[5], line 8\u001b[0m\n\u001b[0;32m      5\u001b[0m NUM\u001b[39m=\u001b[39m\u001b[39m50\u001b[39m\n\u001b[0;32m      7\u001b[0m \u001b[39m# x,y 是普通sinx 的torch tensor\u001b[39;00m\n\u001b[1;32m----> 8\u001b[0m x \u001b[39m=\u001b[39mtorch\u001b[39m.\u001b[39mtensor([(num \u001b[39m*\u001b[39m PI)  \u001b[39mfor\u001b[39;00m num \u001b[39min\u001b[39;00m numpy\u001b[39m.\u001b[39marange(left, right,(right\u001b[39m-\u001b[39mleft)\u001b[39m/\u001b[39mNUM)],dtype\u001b[39m=\u001b[39mtorch\u001b[39m.\u001b[39mfloat32)\n\u001b[0;32m      9\u001b[0m \u001b[39mprint\u001b[39m(x)\n\u001b[0;32m     10\u001b[0m y \u001b[39m=\u001b[39m torch\u001b[39m.\u001b[39msin(x)\n",
      "\u001b[1;31mNameError\u001b[0m: name 'numpy' is not defined"
     ]
    }
   ],
   "source": [
    "EPOCH=1500\n",
    "MLP_LR=0.01\n",
    "left,right=-2,2\n",
    "PI=math.pi\n",
    "NUM=50\n",
    "\n",
    "# x,y 是普通sinx 的torch tensor\n",
    "x =torch.tensor([(num * PI)  for num in numpy.arange(left, right,(right-left)/NUM)],dtype=torch.float32)\n",
    "print(x)\n",
    "y = torch.sin(x)\n",
    "plt.plot(x,y,color='red')\n",
    "plt.show()"
   ]
  }
 ],
 "metadata": {
  "kernelspec": {
   "display_name": "v1",
   "language": "python",
   "name": "python3"
  },
  "language_info": {
   "codemirror_mode": {
    "name": "ipython",
    "version": 3
   },
   "file_extension": ".py",
   "mimetype": "text/x-python",
   "name": "python",
   "nbconvert_exporter": "python",
   "pygments_lexer": "ipython3",
   "version": "3.8.17"
  },
  "orig_nbformat": 4
 },
 "nbformat": 4,
 "nbformat_minor": 2
}
